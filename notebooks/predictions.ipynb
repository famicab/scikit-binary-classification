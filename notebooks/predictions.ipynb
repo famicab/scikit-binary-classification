{
 "cells": [
  {
   "cell_type": "code",
   "execution_count": 2,
   "metadata": {},
   "outputs": [
    {
     "name": "stdout",
     "output_type": "stream",
     "text": [
      "{\n",
      "  \"Converted\": false, \n",
      "  \"converted_probability\": 0.4\n",
      "}\n"
     ]
    }
   ],
   "source": [
    "!curl --request POST 'http://127.0.0.1:8000/predict' \\\n",
    "--header 'Content-Type: application/json'\\\n",
    "--data-raw '{\\\n",
    "   \"lead_origin\":\"api\",\\\n",
    "   \"lead_source\":\"olark_chat\",\\\n",
    "   \"do_not_email\":0,\\\n",
    "   \"totalvisits\":0.0,\\\n",
    "   \"total_time_spent_on_website\":0,\\\n",
    "   \"page_views_per_visit\":0.0,\\\n",
    "   \"last_activity\":\"page_visited_on_website\",\\\n",
    "   \"specialization\":\"not_specified\",\\\n",
    "   \"what_is_your_current_occupation\":\"unemployed\",\\\n",
    "   \"tags\":\"interested_in_other_courses\",\\\n",
    "   \"city\":\"mumbai\",\\\n",
    "   \"a_free_copy_of_mastering_the_interview\":0,\\\n",
    "   \"last_notable_activity\":\"modified\"\\\n",
    "}'"
   ]
  },
  {
   "cell_type": "code",
   "execution_count": 3,
   "metadata": {},
   "outputs": [
    {
     "name": "stdout",
     "output_type": "stream",
     "text": [
      "{\n",
      "  \"Converted\": false, \n",
      "  \"converted_probability\": 0.4\n",
      "}\n"
     ]
    }
   ],
   "source": [
    "!curl --request POST 'http://127.0.0.1:8000/predict' \\\n",
    "--header 'Content-Type: application/json'\\\n",
    "--data-raw '{\\\n",
    "   \"lead_origin\":\"landing_page_submission\",\\\n",
    "   \"lead_source\":\"direct_traffic\",\\\n",
    "   \"do_not_email\":0,\\\n",
    "   \"totalvisits\":2.0,\\\n",
    "   \"total_time_spent_on_website\":1532,\\\n",
    "   \"page_views_per_visit\":2.0,\\\n",
    "   \"last_activity\":\"email_opened\",\\\n",
    "   \"specialization\":\"business_administration\",\\\n",
    "   \"what_is_your_current_occupation\":\"student\",\\\n",
    "   \"tags\":\"will_revert_after_reading_the_email\",\\\n",
    "   \"city\":\"mumbai\",\\\n",
    "   \"a_free_copy_of_mastering_the_interview\":1,\\\n",
    "   \"last_notable_activity\":\"email_opened\"\\\n",
    "}'"
   ]
  },
  {
   "cell_type": "code",
   "execution_count": null,
   "metadata": {},
   "outputs": [],
   "source": []
  }
 ],
 "metadata": {
  "interpreter": {
   "hash": "1ec615834a929f8f6354de4f8ec96d7c019114e8d9f7812a39bf7f16da3f4860"
  },
  "kernelspec": {
   "display_name": "Python 3.9.7 ('base')",
   "language": "python",
   "name": "python3"
  },
  "language_info": {
   "codemirror_mode": {
    "name": "ipython",
    "version": 3
   },
   "file_extension": ".py",
   "mimetype": "text/x-python",
   "name": "python",
   "nbconvert_exporter": "python",
   "pygments_lexer": "ipython3",
   "version": "3.9.7"
  },
  "orig_nbformat": 4
 },
 "nbformat": 4,
 "nbformat_minor": 2
}
